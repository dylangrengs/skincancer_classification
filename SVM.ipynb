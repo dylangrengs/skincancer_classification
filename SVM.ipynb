{
 "cells": [
  {
   "cell_type": "markdown",
   "metadata": {},
   "source": [
    "# Support Vector Machine"
   ]
  },
  {
   "cell_type": "code",
   "execution_count": 5,
   "metadata": {},
   "outputs": [],
   "source": [
    "import pandas as pd\n",
    "import cv2\n",
    "from skimage.filters import prewitt_h, prewitt_v, sobel, roberts\n",
    "from skimage.feature import canny\n",
    "from skimage.io import imshow as ski_imshow\n",
    "from matplotlib import pyplot as plt\n",
    "import numpy\n",
    "import os\n",
    "from IPython.display import display\n",
    "from sklearn.model_selection import train_test_split, GridSearchCV, cross_validate, KFold # Import train_test_split, GridSearchCV, and KFold functions and classses\n",
    "from sklearn import metrics #Import scikit-learn metrics module for accuracy calculation\n",
    "from sklearn import svm\n",
    "\n",
    "# Import TensorFlow\n",
    "import tensorflow as tf\n",
    "from keras import datasets, layers, models\n",
    "import matplotlib.pyplot as plt\n",
    "from projectLib import getLabelArray"
   ]
  },
  {
   "cell_type": "markdown",
   "metadata": {},
   "source": [
    "## Getting Data"
   ]
  },
  {
   "cell_type": "code",
   "execution_count": 3,
   "metadata": {},
   "outputs": [
    {
     "name": "stdout",
     "output_type": "stream",
     "text": [
      "0\n",
      "1000\n",
      "2000\n",
      "3000\n",
      "4000\n",
      "5000\n",
      "6000\n",
      "7000\n",
      "8000\n",
      "9000\n",
      "10000\n"
     ]
    }
   ],
   "source": [
    "data = pd.read_csv(\"..\\data\\HAM10000_metadata.csv\")\n",
    "\n",
    "# Creating a dataframe with 10%\n",
    "# values of original dataframe\n",
    "testData = data.sample(frac = 0.1)\n",
    " \n",
    "# Creating dataframe with\n",
    "# rest of the 84% values\n",
    "trainData = data.drop(testData.index)\n",
    "\n",
    "# class labels\n",
    "classes = [['mel', 'Melanoma'], ['nv', 'Melanocytic nevus'], ['bcc', 'Basal cell carcinoma'], \n",
    "           ['akiec', 'Actinic keratosis / Bowen’s disease'], ['bkl', 'Benign keratosis'], ['df', 'Dermatofibroma'],\n",
    "           ['vasc', 'Vascular lesion']]\n",
    "\n",
    "\n",
    "# row = data.iloc[1]:\n",
    "testImages = []\n",
    "testLabels = []\n",
    "for index, row in testData.iterrows():\n",
    "    if index % 1000 == 0:\n",
    "        print (index)\n",
    "    img = cv2.imread(\"..\\data\\\\allData\\HAM10000_images\\\\\" + row['image_id'] +\".jpg\", flags= cv2.IMREAD_GRAYSCALE)\n",
    "    # img = img / 255  ## changes values 0-1\n",
    "    dim = (108, 81)\n",
    "    img = cv2.resize(img, dim)  ## resize\n",
    "    img = canny(img, sigma=.5)\n",
    "    testImages.append(numpy.reshape(img, 108*81))\n",
    "    arr = None\n",
    "    if row['dx'] == 'mel':\n",
    "        arr =  0\n",
    "    elif row['dx'] == 'nv':\n",
    "        arr =  1\n",
    "    elif row['dx'] == 'bcc':\n",
    "        arr =  2\n",
    "    elif row['dx'] == 'akiec':\n",
    "        arr =  3\n",
    "    elif row['dx'] == 'bkl':\n",
    "        arr =  4\n",
    "    elif row['dx'] == 'df':\n",
    "        arr =  5\n",
    "    else:\n",
    "        arr =  6\n",
    "    testLabels.append(arr)\n",
    "\n",
    "trainImages = []\n",
    "trainLabels = []\n",
    "for index, row in trainData.iterrows():\n",
    "    if index % 1000 == 0:\n",
    "        print (index)\n",
    "    img = cv2.imread(\"..\\data\\\\allData\\HAM10000_images\\\\\" + row['image_id'] +\".jpg\", flags= cv2.IMREAD_GRAYSCALE)\n",
    "    # img = img / 255  ## changes values 0-1\n",
    "    dim = (108, 81)\n",
    "    img = cv2.resize(img, dim)  ## resize\n",
    "    img = canny(img, sigma=.5)\n",
    "    trainImages.append(numpy.reshape(img, 108*81))\n",
    "    arr = None\n",
    "    if row['dx'] == 'mel':\n",
    "        arr =  0\n",
    "    elif row['dx'] == 'nv':\n",
    "        arr =  1\n",
    "    elif row['dx'] == 'bcc':\n",
    "        arr =  2\n",
    "    elif row['dx'] == 'akiec':\n",
    "        arr =  3\n",
    "    elif row['dx'] == 'bkl':\n",
    "        arr =  4\n",
    "    elif row['dx'] == 'df':\n",
    "        arr =  5\n",
    "    else:\n",
    "        arr =  6\n",
    "    trainLabels.append(arr)"
   ]
  },
  {
   "cell_type": "markdown",
   "metadata": {},
   "source": [
    "## Create/ Train Model"
   ]
  },
  {
   "cell_type": "code",
   "execution_count": 4,
   "metadata": {},
   "outputs": [],
   "source": [
    "xTrain = numpy.array(trainImages)\n",
    "yTrain = numpy.array(trainLabels)\n",
    "xTest = numpy.array(testImages)\n",
    "yTest = numpy.array(testLabels)"
   ]
  },
  {
   "cell_type": "code",
   "execution_count": 6,
   "metadata": {},
   "outputs": [],
   "source": [
    "# Grid Search\n",
    "\n",
    "parameters = [{'C':[1, 10, 100], 'kernel':['poly'], 'degree':[2, 3, 4], 'decision_function_shape':['ovo']},\n",
    "              {'C':[1, 10, 100], 'kernel':['rbf'], 'decision_function_shape':['ovo']},\n",
    "              \n",
    "]\n",
    "\n",
    "\n",
    "baseSVC = svm.SVC()\n",
    "gridCLF = GridSearchCV(baseSVC, parameters)\n",
    "gridCLF.fit(xTrain, yTrain)\n",
    "\n",
    "print(gridCLF.best_estimator_)\n",
    "print(gridCLF.best_score_)\n",
    "print(gridCLF.best_params_)\n"
   ]
  },
  {
   "cell_type": "code",
   "execution_count": 9,
   "metadata": {},
   "outputs": [],
   "source": [
    "# Test with k-fold cross validation\n",
    "\n",
    "kModel = svm.SVC( kernel= 'rbf' , decision_function_shape='ovo')\n",
    "\n",
    "kFold = KFold(n_splits=5, shuffle=True)\n",
    "\n",
    "scores = cross_validate(kModel, xTrain, yTrain, cv=kFold)\n",
    "\n",
    "print(scores['test_score'].mean)"
   ]
  },
  {
   "cell_type": "code",
   "execution_count": 10,
   "metadata": {},
   "outputs": [
    {
     "data": {
      "text/html": [
       "<style>#sk-container-id-3 {color: black;background-color: white;}#sk-container-id-3 pre{padding: 0;}#sk-container-id-3 div.sk-toggleable {background-color: white;}#sk-container-id-3 label.sk-toggleable__label {cursor: pointer;display: block;width: 100%;margin-bottom: 0;padding: 0.3em;box-sizing: border-box;text-align: center;}#sk-container-id-3 label.sk-toggleable__label-arrow:before {content: \"▸\";float: left;margin-right: 0.25em;color: #696969;}#sk-container-id-3 label.sk-toggleable__label-arrow:hover:before {color: black;}#sk-container-id-3 div.sk-estimator:hover label.sk-toggleable__label-arrow:before {color: black;}#sk-container-id-3 div.sk-toggleable__content {max-height: 0;max-width: 0;overflow: hidden;text-align: left;background-color: #f0f8ff;}#sk-container-id-3 div.sk-toggleable__content pre {margin: 0.2em;color: black;border-radius: 0.25em;background-color: #f0f8ff;}#sk-container-id-3 input.sk-toggleable__control:checked~div.sk-toggleable__content {max-height: 200px;max-width: 100%;overflow: auto;}#sk-container-id-3 input.sk-toggleable__control:checked~label.sk-toggleable__label-arrow:before {content: \"▾\";}#sk-container-id-3 div.sk-estimator input.sk-toggleable__control:checked~label.sk-toggleable__label {background-color: #d4ebff;}#sk-container-id-3 div.sk-label input.sk-toggleable__control:checked~label.sk-toggleable__label {background-color: #d4ebff;}#sk-container-id-3 input.sk-hidden--visually {border: 0;clip: rect(1px 1px 1px 1px);clip: rect(1px, 1px, 1px, 1px);height: 1px;margin: -1px;overflow: hidden;padding: 0;position: absolute;width: 1px;}#sk-container-id-3 div.sk-estimator {font-family: monospace;background-color: #f0f8ff;border: 1px dotted black;border-radius: 0.25em;box-sizing: border-box;margin-bottom: 0.5em;}#sk-container-id-3 div.sk-estimator:hover {background-color: #d4ebff;}#sk-container-id-3 div.sk-parallel-item::after {content: \"\";width: 100%;border-bottom: 1px solid gray;flex-grow: 1;}#sk-container-id-3 div.sk-label:hover label.sk-toggleable__label {background-color: #d4ebff;}#sk-container-id-3 div.sk-serial::before {content: \"\";position: absolute;border-left: 1px solid gray;box-sizing: border-box;top: 0;bottom: 0;left: 50%;z-index: 0;}#sk-container-id-3 div.sk-serial {display: flex;flex-direction: column;align-items: center;background-color: white;padding-right: 0.2em;padding-left: 0.2em;position: relative;}#sk-container-id-3 div.sk-item {position: relative;z-index: 1;}#sk-container-id-3 div.sk-parallel {display: flex;align-items: stretch;justify-content: center;background-color: white;position: relative;}#sk-container-id-3 div.sk-item::before, #sk-container-id-3 div.sk-parallel-item::before {content: \"\";position: absolute;border-left: 1px solid gray;box-sizing: border-box;top: 0;bottom: 0;left: 50%;z-index: -1;}#sk-container-id-3 div.sk-parallel-item {display: flex;flex-direction: column;z-index: 1;position: relative;background-color: white;}#sk-container-id-3 div.sk-parallel-item:first-child::after {align-self: flex-end;width: 50%;}#sk-container-id-3 div.sk-parallel-item:last-child::after {align-self: flex-start;width: 50%;}#sk-container-id-3 div.sk-parallel-item:only-child::after {width: 0;}#sk-container-id-3 div.sk-dashed-wrapped {border: 1px dashed gray;margin: 0 0.4em 0.5em 0.4em;box-sizing: border-box;padding-bottom: 0.4em;background-color: white;}#sk-container-id-3 div.sk-label label {font-family: monospace;font-weight: bold;display: inline-block;line-height: 1.2em;}#sk-container-id-3 div.sk-label-container {text-align: center;}#sk-container-id-3 div.sk-container {/* jupyter's `normalize.less` sets `[hidden] { display: none; }` but bootstrap.min.css set `[hidden] { display: none !important; }` so we also need the `!important` here to be able to override the default hidden behavior on the sphinx rendered scikit-learn.org. See: https://github.com/scikit-learn/scikit-learn/issues/21755 */display: inline-block !important;position: relative;}#sk-container-id-3 div.sk-text-repr-fallback {display: none;}</style><div id=\"sk-container-id-3\" class=\"sk-top-container\"><div class=\"sk-text-repr-fallback\"><pre>SVC(decision_function_shape=&#x27;ovo&#x27;, kernel=&#x27;poly&#x27;)</pre><b>In a Jupyter environment, please rerun this cell to show the HTML representation or trust the notebook. <br />On GitHub, the HTML representation is unable to render, please try loading this page with nbviewer.org.</b></div><div class=\"sk-container\" hidden><div class=\"sk-item\"><div class=\"sk-estimator sk-toggleable\"><input class=\"sk-toggleable__control sk-hidden--visually\" id=\"sk-estimator-id-3\" type=\"checkbox\" checked><label for=\"sk-estimator-id-3\" class=\"sk-toggleable__label sk-toggleable__label-arrow\">SVC</label><div class=\"sk-toggleable__content\"><pre>SVC(decision_function_shape=&#x27;ovo&#x27;, kernel=&#x27;poly&#x27;)</pre></div></div></div></div></div>"
      ],
      "text/plain": [
       "SVC(decision_function_shape='ovo', kernel='poly')"
      ]
     },
     "execution_count": 10,
     "metadata": {},
     "output_type": "execute_result"
    }
   ],
   "source": [
    "# create svm\n",
    "\n",
    "# model = svm.SVC( kernel= 'linear' , decision_function_shape='ovo')   ## meth 1   56.08\n",
    "\n",
    "# model = svm.SVC( kernel= 'rbf' , decision_function_shape='ovo')   ## meth 2 69.8  \n",
    "\n",
    "model = svm.SVC( kernel= 'poly' , decision_function_shape='ovo') ## 69.4\n",
    "\n",
    "\n",
    "\n",
    "# train svm classifier\n",
    "model.fit(X=xTrain, y= yTrain)\n",
    "# xTrain.shape\n",
    "# yTrain.shape"
   ]
  },
  {
   "cell_type": "code",
   "execution_count": 11,
   "metadata": {},
   "outputs": [
    {
     "name": "stdout",
     "output_type": "stream",
     "text": [
      "0.6946107784431138\n"
     ]
    }
   ],
   "source": [
    "\n",
    "svm_predictions = model.predict(xTest)\n",
    "  \n",
    "# model accuracy for X_test  \n",
    "accuracy = model.score(xTest, yTest)\n",
    "\n",
    "print(accuracy)\n",
    "  \n",
    "# creating a confusion matrix\n",
    "# cm = svm.confusion_matrix(yTest, svm_predictions)"
   ]
  }
 ],
 "metadata": {
  "kernelspec": {
   "display_name": "Python 3.10.2 64-bit",
   "language": "python",
   "name": "python3"
  },
  "language_info": {
   "codemirror_mode": {
    "name": "ipython",
    "version": 3
   },
   "file_extension": ".py",
   "mimetype": "text/x-python",
   "name": "python",
   "nbconvert_exporter": "python",
   "pygments_lexer": "ipython3",
   "version": "3.10.2"
  },
  "orig_nbformat": 4,
  "vscode": {
   "interpreter": {
    "hash": "369f2c481f4da34e4445cda3fffd2e751bd1c4d706f27375911949ba6bb62e1c"
   }
  }
 },
 "nbformat": 4,
 "nbformat_minor": 2
}
